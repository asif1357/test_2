{
 "cells": [
  {
   "cell_type": "markdown",
   "id": "1eee0e0e",
   "metadata": {},
   "source": [
    "# Assignment No.2"
   ]
  },
  {
   "cell_type": "markdown",
   "id": "fe4e486e",
   "metadata": {},
   "source": [
    "1. True and False are boolean values both start with capital letter\n",
    "\n",
    "2. Boolean oprators are : and,or,not\n",
    "\n",
    "3. True and  True  = True\n",
    "   True and  False = False\n",
    "   False and True  = False\n",
    "   False and False = False\n",
    "   \n",
    "   True or  True  = True\n",
    "   True or  False = True\n",
    "   False or True  = True\n",
    "   False or False = False\n",
    "   \n",
    "   not True = False\n",
    "   not False= True\n",
    "   \n",
    "4. False\n",
    "   False\n",
    "   True\n",
    "   False\n",
    "   False\n",
    "   True\n",
    "   \n",
    "5. >,>=,<,<=,==,!=\n",
    "\n",
    "6. '=' is an assignment oprator,'==' is comparison oprator\n",
    "   '=' is used to assign some value to variable while '==' is used to compare two operands\n",
    "   \n",
    "7. If indentations are neglected all three blocks are visible following if statement and else statement\n",
    "\n",
    "(9) . ctr+c to stop the infinite loop\n",
    "\n",
    "(10). break is used to come out of the loop where as continue is used to skip the current iteration on specified condition\n",
    "\n",
    "(11). All given range functions will iterate from 0 to 9 with step size = 1\n",
    "\n",
    "(13). After importing spam, spam.bacon() can be used to call this function"
   ]
  },
  {
   "cell_type": "code",
   "execution_count": 1,
   "id": "96be62c3",
   "metadata": {},
   "outputs": [
    {
     "name": "stdout",
     "output_type": "stream",
     "text": [
      "Howdy\n"
     ]
    }
   ],
   "source": [
    "# question 8\n",
    "spam=2\n",
    "if spam==1:\n",
    "    print(\"Hello\")\n",
    "if spam==2:\n",
    "    print(\"Howdy\")\n",
    "else :\n",
    "    print(\"Greeting!!\")\n"
   ]
  },
  {
   "cell_type": "code",
   "execution_count": 2,
   "id": "5a631d22",
   "metadata": {},
   "outputs": [
    {
     "name": "stdout",
     "output_type": "stream",
     "text": [
      "1\n",
      "2\n",
      "3\n",
      "4\n",
      "5\n",
      "6\n",
      "7\n",
      "8\n",
      "9\n",
      "10\n",
      "1\n",
      "2\n",
      "3\n",
      "4\n",
      "5\n",
      "6\n",
      "7\n",
      "8\n",
      "9\n",
      "10\n"
     ]
    }
   ],
   "source": [
    "# question 12\n",
    "for i in range(1,11):\n",
    "    print(i)\n",
    "k=1\n",
    "while k<11:\n",
    "    print(k)\n",
    "    k=k+1"
   ]
  },
  {
   "cell_type": "code",
   "execution_count": null,
   "id": "dd37c76a",
   "metadata": {},
   "outputs": [],
   "source": []
  }
 ],
 "metadata": {
  "kernelspec": {
   "display_name": "Python 3 (ipykernel)",
   "language": "python",
   "name": "python3"
  },
  "language_info": {
   "codemirror_mode": {
    "name": "ipython",
    "version": 3
   },
   "file_extension": ".py",
   "mimetype": "text/x-python",
   "name": "python",
   "nbconvert_exporter": "python",
   "pygments_lexer": "ipython3",
   "version": "3.9.12"
  }
 },
 "nbformat": 4,
 "nbformat_minor": 5
}
